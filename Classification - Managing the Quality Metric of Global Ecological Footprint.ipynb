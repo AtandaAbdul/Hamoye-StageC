{
 "cells": [
  {
   "cell_type": "code",
   "execution_count": 1,
   "id": "2ef33366",
   "metadata": {},
   "outputs": [],
   "source": [
    "import pandas as pd\n",
    "import numpy as np"
   ]
  },
  {
   "cell_type": "code",
   "execution_count": 2,
   "id": "9e83567d",
   "metadata": {},
   "outputs": [],
   "source": [
    "df = pd.read_csv(\"Data_for_UCI_named.csv\")"
   ]
  },
  {
   "cell_type": "code",
   "execution_count": 3,
   "id": "4a0bd654",
   "metadata": {},
   "outputs": [
    {
     "data": {
      "text/html": [
       "<div>\n",
       "<style scoped>\n",
       "    .dataframe tbody tr th:only-of-type {\n",
       "        vertical-align: middle;\n",
       "    }\n",
       "\n",
       "    .dataframe tbody tr th {\n",
       "        vertical-align: top;\n",
       "    }\n",
       "\n",
       "    .dataframe thead th {\n",
       "        text-align: right;\n",
       "    }\n",
       "</style>\n",
       "<table border=\"1\" class=\"dataframe\">\n",
       "  <thead>\n",
       "    <tr style=\"text-align: right;\">\n",
       "      <th></th>\n",
       "      <th>tau1</th>\n",
       "      <th>tau2</th>\n",
       "      <th>tau3</th>\n",
       "      <th>tau4</th>\n",
       "      <th>p1</th>\n",
       "      <th>p2</th>\n",
       "      <th>p3</th>\n",
       "      <th>p4</th>\n",
       "      <th>g1</th>\n",
       "      <th>g2</th>\n",
       "      <th>g3</th>\n",
       "      <th>g4</th>\n",
       "      <th>stab</th>\n",
       "      <th>stabf</th>\n",
       "    </tr>\n",
       "  </thead>\n",
       "  <tbody>\n",
       "    <tr>\n",
       "      <th>0</th>\n",
       "      <td>2.959060</td>\n",
       "      <td>3.079885</td>\n",
       "      <td>8.381025</td>\n",
       "      <td>9.780754</td>\n",
       "      <td>3.763085</td>\n",
       "      <td>-0.782604</td>\n",
       "      <td>-1.257395</td>\n",
       "      <td>-1.723086</td>\n",
       "      <td>0.650456</td>\n",
       "      <td>0.859578</td>\n",
       "      <td>0.887445</td>\n",
       "      <td>0.958034</td>\n",
       "      <td>0.055347</td>\n",
       "      <td>unstable</td>\n",
       "    </tr>\n",
       "    <tr>\n",
       "      <th>1</th>\n",
       "      <td>9.304097</td>\n",
       "      <td>4.902524</td>\n",
       "      <td>3.047541</td>\n",
       "      <td>1.369357</td>\n",
       "      <td>5.067812</td>\n",
       "      <td>-1.940058</td>\n",
       "      <td>-1.872742</td>\n",
       "      <td>-1.255012</td>\n",
       "      <td>0.413441</td>\n",
       "      <td>0.862414</td>\n",
       "      <td>0.562139</td>\n",
       "      <td>0.781760</td>\n",
       "      <td>-0.005957</td>\n",
       "      <td>stable</td>\n",
       "    </tr>\n",
       "    <tr>\n",
       "      <th>2</th>\n",
       "      <td>8.971707</td>\n",
       "      <td>8.848428</td>\n",
       "      <td>3.046479</td>\n",
       "      <td>1.214518</td>\n",
       "      <td>3.405158</td>\n",
       "      <td>-1.207456</td>\n",
       "      <td>-1.277210</td>\n",
       "      <td>-0.920492</td>\n",
       "      <td>0.163041</td>\n",
       "      <td>0.766689</td>\n",
       "      <td>0.839444</td>\n",
       "      <td>0.109853</td>\n",
       "      <td>0.003471</td>\n",
       "      <td>unstable</td>\n",
       "    </tr>\n",
       "    <tr>\n",
       "      <th>3</th>\n",
       "      <td>0.716415</td>\n",
       "      <td>7.669600</td>\n",
       "      <td>4.486641</td>\n",
       "      <td>2.340563</td>\n",
       "      <td>3.963791</td>\n",
       "      <td>-1.027473</td>\n",
       "      <td>-1.938944</td>\n",
       "      <td>-0.997374</td>\n",
       "      <td>0.446209</td>\n",
       "      <td>0.976744</td>\n",
       "      <td>0.929381</td>\n",
       "      <td>0.362718</td>\n",
       "      <td>0.028871</td>\n",
       "      <td>unstable</td>\n",
       "    </tr>\n",
       "    <tr>\n",
       "      <th>4</th>\n",
       "      <td>3.134112</td>\n",
       "      <td>7.608772</td>\n",
       "      <td>4.943759</td>\n",
       "      <td>9.857573</td>\n",
       "      <td>3.525811</td>\n",
       "      <td>-1.125531</td>\n",
       "      <td>-1.845975</td>\n",
       "      <td>-0.554305</td>\n",
       "      <td>0.797110</td>\n",
       "      <td>0.455450</td>\n",
       "      <td>0.656947</td>\n",
       "      <td>0.820923</td>\n",
       "      <td>0.049860</td>\n",
       "      <td>unstable</td>\n",
       "    </tr>\n",
       "    <tr>\n",
       "      <th>...</th>\n",
       "      <td>...</td>\n",
       "      <td>...</td>\n",
       "      <td>...</td>\n",
       "      <td>...</td>\n",
       "      <td>...</td>\n",
       "      <td>...</td>\n",
       "      <td>...</td>\n",
       "      <td>...</td>\n",
       "      <td>...</td>\n",
       "      <td>...</td>\n",
       "      <td>...</td>\n",
       "      <td>...</td>\n",
       "      <td>...</td>\n",
       "      <td>...</td>\n",
       "    </tr>\n",
       "    <tr>\n",
       "      <th>9995</th>\n",
       "      <td>2.930406</td>\n",
       "      <td>9.487627</td>\n",
       "      <td>2.376523</td>\n",
       "      <td>6.187797</td>\n",
       "      <td>3.343416</td>\n",
       "      <td>-0.658054</td>\n",
       "      <td>-1.449106</td>\n",
       "      <td>-1.236256</td>\n",
       "      <td>0.601709</td>\n",
       "      <td>0.779642</td>\n",
       "      <td>0.813512</td>\n",
       "      <td>0.608385</td>\n",
       "      <td>0.023892</td>\n",
       "      <td>unstable</td>\n",
       "    </tr>\n",
       "    <tr>\n",
       "      <th>9996</th>\n",
       "      <td>3.392299</td>\n",
       "      <td>1.274827</td>\n",
       "      <td>2.954947</td>\n",
       "      <td>6.894759</td>\n",
       "      <td>4.349512</td>\n",
       "      <td>-1.663661</td>\n",
       "      <td>-0.952437</td>\n",
       "      <td>-1.733414</td>\n",
       "      <td>0.502079</td>\n",
       "      <td>0.567242</td>\n",
       "      <td>0.285880</td>\n",
       "      <td>0.366120</td>\n",
       "      <td>-0.025803</td>\n",
       "      <td>stable</td>\n",
       "    </tr>\n",
       "    <tr>\n",
       "      <th>9997</th>\n",
       "      <td>2.364034</td>\n",
       "      <td>2.842030</td>\n",
       "      <td>8.776391</td>\n",
       "      <td>1.008906</td>\n",
       "      <td>4.299976</td>\n",
       "      <td>-1.380719</td>\n",
       "      <td>-0.943884</td>\n",
       "      <td>-1.975373</td>\n",
       "      <td>0.487838</td>\n",
       "      <td>0.986505</td>\n",
       "      <td>0.149286</td>\n",
       "      <td>0.145984</td>\n",
       "      <td>-0.031810</td>\n",
       "      <td>stable</td>\n",
       "    </tr>\n",
       "    <tr>\n",
       "      <th>9998</th>\n",
       "      <td>9.631511</td>\n",
       "      <td>3.994398</td>\n",
       "      <td>2.757071</td>\n",
       "      <td>7.821347</td>\n",
       "      <td>2.514755</td>\n",
       "      <td>-0.966330</td>\n",
       "      <td>-0.649915</td>\n",
       "      <td>-0.898510</td>\n",
       "      <td>0.365246</td>\n",
       "      <td>0.587558</td>\n",
       "      <td>0.889118</td>\n",
       "      <td>0.818391</td>\n",
       "      <td>0.037789</td>\n",
       "      <td>unstable</td>\n",
       "    </tr>\n",
       "    <tr>\n",
       "      <th>9999</th>\n",
       "      <td>6.530527</td>\n",
       "      <td>6.781790</td>\n",
       "      <td>4.349695</td>\n",
       "      <td>8.673138</td>\n",
       "      <td>3.492807</td>\n",
       "      <td>-1.390285</td>\n",
       "      <td>-1.532193</td>\n",
       "      <td>-0.570329</td>\n",
       "      <td>0.073056</td>\n",
       "      <td>0.505441</td>\n",
       "      <td>0.378761</td>\n",
       "      <td>0.942631</td>\n",
       "      <td>0.045263</td>\n",
       "      <td>unstable</td>\n",
       "    </tr>\n",
       "  </tbody>\n",
       "</table>\n",
       "<p>10000 rows × 14 columns</p>\n",
       "</div>"
      ],
      "text/plain": [
       "          tau1      tau2      tau3      tau4        p1        p2        p3  \\\n",
       "0     2.959060  3.079885  8.381025  9.780754  3.763085 -0.782604 -1.257395   \n",
       "1     9.304097  4.902524  3.047541  1.369357  5.067812 -1.940058 -1.872742   \n",
       "2     8.971707  8.848428  3.046479  1.214518  3.405158 -1.207456 -1.277210   \n",
       "3     0.716415  7.669600  4.486641  2.340563  3.963791 -1.027473 -1.938944   \n",
       "4     3.134112  7.608772  4.943759  9.857573  3.525811 -1.125531 -1.845975   \n",
       "...        ...       ...       ...       ...       ...       ...       ...   \n",
       "9995  2.930406  9.487627  2.376523  6.187797  3.343416 -0.658054 -1.449106   \n",
       "9996  3.392299  1.274827  2.954947  6.894759  4.349512 -1.663661 -0.952437   \n",
       "9997  2.364034  2.842030  8.776391  1.008906  4.299976 -1.380719 -0.943884   \n",
       "9998  9.631511  3.994398  2.757071  7.821347  2.514755 -0.966330 -0.649915   \n",
       "9999  6.530527  6.781790  4.349695  8.673138  3.492807 -1.390285 -1.532193   \n",
       "\n",
       "            p4        g1        g2        g3        g4      stab     stabf  \n",
       "0    -1.723086  0.650456  0.859578  0.887445  0.958034  0.055347  unstable  \n",
       "1    -1.255012  0.413441  0.862414  0.562139  0.781760 -0.005957    stable  \n",
       "2    -0.920492  0.163041  0.766689  0.839444  0.109853  0.003471  unstable  \n",
       "3    -0.997374  0.446209  0.976744  0.929381  0.362718  0.028871  unstable  \n",
       "4    -0.554305  0.797110  0.455450  0.656947  0.820923  0.049860  unstable  \n",
       "...        ...       ...       ...       ...       ...       ...       ...  \n",
       "9995 -1.236256  0.601709  0.779642  0.813512  0.608385  0.023892  unstable  \n",
       "9996 -1.733414  0.502079  0.567242  0.285880  0.366120 -0.025803    stable  \n",
       "9997 -1.975373  0.487838  0.986505  0.149286  0.145984 -0.031810    stable  \n",
       "9998 -0.898510  0.365246  0.587558  0.889118  0.818391  0.037789  unstable  \n",
       "9999 -0.570329  0.073056  0.505441  0.378761  0.942631  0.045263  unstable  \n",
       "\n",
       "[10000 rows x 14 columns]"
      ]
     },
     "execution_count": 3,
     "metadata": {},
     "output_type": "execute_result"
    }
   ],
   "source": [
    "df"
   ]
  },
  {
   "cell_type": "code",
   "execution_count": 5,
   "id": "580a44ec",
   "metadata": {},
   "outputs": [
    {
     "data": {
      "text/html": [
       "<div>\n",
       "<style scoped>\n",
       "    .dataframe tbody tr th:only-of-type {\n",
       "        vertical-align: middle;\n",
       "    }\n",
       "\n",
       "    .dataframe tbody tr th {\n",
       "        vertical-align: top;\n",
       "    }\n",
       "\n",
       "    .dataframe thead th {\n",
       "        text-align: right;\n",
       "    }\n",
       "</style>\n",
       "<table border=\"1\" class=\"dataframe\">\n",
       "  <thead>\n",
       "    <tr style=\"text-align: right;\">\n",
       "      <th></th>\n",
       "      <th>count</th>\n",
       "      <th>mean</th>\n",
       "      <th>std</th>\n",
       "      <th>min</th>\n",
       "      <th>25%</th>\n",
       "      <th>50%</th>\n",
       "      <th>75%</th>\n",
       "      <th>max</th>\n",
       "    </tr>\n",
       "  </thead>\n",
       "  <tbody>\n",
       "    <tr>\n",
       "      <th>tau1</th>\n",
       "      <td>10000.0</td>\n",
       "      <td>5.250000</td>\n",
       "      <td>2.742548</td>\n",
       "      <td>0.500793</td>\n",
       "      <td>2.874892</td>\n",
       "      <td>5.250004</td>\n",
       "      <td>7.624690</td>\n",
       "      <td>9.999469</td>\n",
       "    </tr>\n",
       "    <tr>\n",
       "      <th>tau2</th>\n",
       "      <td>10000.0</td>\n",
       "      <td>5.250001</td>\n",
       "      <td>2.742549</td>\n",
       "      <td>0.500141</td>\n",
       "      <td>2.875140</td>\n",
       "      <td>5.249981</td>\n",
       "      <td>7.624893</td>\n",
       "      <td>9.999837</td>\n",
       "    </tr>\n",
       "    <tr>\n",
       "      <th>tau3</th>\n",
       "      <td>10000.0</td>\n",
       "      <td>5.250004</td>\n",
       "      <td>2.742549</td>\n",
       "      <td>0.500788</td>\n",
       "      <td>2.875522</td>\n",
       "      <td>5.249979</td>\n",
       "      <td>7.624948</td>\n",
       "      <td>9.999450</td>\n",
       "    </tr>\n",
       "    <tr>\n",
       "      <th>tau4</th>\n",
       "      <td>10000.0</td>\n",
       "      <td>5.249997</td>\n",
       "      <td>2.742556</td>\n",
       "      <td>0.500473</td>\n",
       "      <td>2.874950</td>\n",
       "      <td>5.249734</td>\n",
       "      <td>7.624838</td>\n",
       "      <td>9.999443</td>\n",
       "    </tr>\n",
       "    <tr>\n",
       "      <th>p1</th>\n",
       "      <td>10000.0</td>\n",
       "      <td>3.750000</td>\n",
       "      <td>0.752160</td>\n",
       "      <td>1.582590</td>\n",
       "      <td>3.218300</td>\n",
       "      <td>3.751025</td>\n",
       "      <td>4.282420</td>\n",
       "      <td>5.864418</td>\n",
       "    </tr>\n",
       "    <tr>\n",
       "      <th>p2</th>\n",
       "      <td>10000.0</td>\n",
       "      <td>-1.250000</td>\n",
       "      <td>0.433035</td>\n",
       "      <td>-1.999891</td>\n",
       "      <td>-1.624901</td>\n",
       "      <td>-1.249966</td>\n",
       "      <td>-0.874977</td>\n",
       "      <td>-0.500108</td>\n",
       "    </tr>\n",
       "    <tr>\n",
       "      <th>p3</th>\n",
       "      <td>10000.0</td>\n",
       "      <td>-1.250000</td>\n",
       "      <td>0.433035</td>\n",
       "      <td>-1.999945</td>\n",
       "      <td>-1.625025</td>\n",
       "      <td>-1.249974</td>\n",
       "      <td>-0.875043</td>\n",
       "      <td>-0.500072</td>\n",
       "    </tr>\n",
       "    <tr>\n",
       "      <th>p4</th>\n",
       "      <td>10000.0</td>\n",
       "      <td>-1.250000</td>\n",
       "      <td>0.433035</td>\n",
       "      <td>-1.999926</td>\n",
       "      <td>-1.624960</td>\n",
       "      <td>-1.250007</td>\n",
       "      <td>-0.875065</td>\n",
       "      <td>-0.500025</td>\n",
       "    </tr>\n",
       "    <tr>\n",
       "      <th>g1</th>\n",
       "      <td>10000.0</td>\n",
       "      <td>0.525000</td>\n",
       "      <td>0.274256</td>\n",
       "      <td>0.050009</td>\n",
       "      <td>0.287521</td>\n",
       "      <td>0.525009</td>\n",
       "      <td>0.762435</td>\n",
       "      <td>0.999937</td>\n",
       "    </tr>\n",
       "    <tr>\n",
       "      <th>g2</th>\n",
       "      <td>10000.0</td>\n",
       "      <td>0.525000</td>\n",
       "      <td>0.274255</td>\n",
       "      <td>0.050053</td>\n",
       "      <td>0.287552</td>\n",
       "      <td>0.525003</td>\n",
       "      <td>0.762490</td>\n",
       "      <td>0.999944</td>\n",
       "    </tr>\n",
       "    <tr>\n",
       "      <th>g3</th>\n",
       "      <td>10000.0</td>\n",
       "      <td>0.525000</td>\n",
       "      <td>0.274255</td>\n",
       "      <td>0.050054</td>\n",
       "      <td>0.287514</td>\n",
       "      <td>0.525015</td>\n",
       "      <td>0.762440</td>\n",
       "      <td>0.999982</td>\n",
       "    </tr>\n",
       "    <tr>\n",
       "      <th>g4</th>\n",
       "      <td>10000.0</td>\n",
       "      <td>0.525000</td>\n",
       "      <td>0.274255</td>\n",
       "      <td>0.050028</td>\n",
       "      <td>0.287494</td>\n",
       "      <td>0.525002</td>\n",
       "      <td>0.762433</td>\n",
       "      <td>0.999930</td>\n",
       "    </tr>\n",
       "    <tr>\n",
       "      <th>stab</th>\n",
       "      <td>10000.0</td>\n",
       "      <td>0.015731</td>\n",
       "      <td>0.036919</td>\n",
       "      <td>-0.080760</td>\n",
       "      <td>-0.015557</td>\n",
       "      <td>0.017142</td>\n",
       "      <td>0.044878</td>\n",
       "      <td>0.109403</td>\n",
       "    </tr>\n",
       "  </tbody>\n",
       "</table>\n",
       "</div>"
      ],
      "text/plain": [
       "        count      mean       std       min       25%       50%       75%  \\\n",
       "tau1  10000.0  5.250000  2.742548  0.500793  2.874892  5.250004  7.624690   \n",
       "tau2  10000.0  5.250001  2.742549  0.500141  2.875140  5.249981  7.624893   \n",
       "tau3  10000.0  5.250004  2.742549  0.500788  2.875522  5.249979  7.624948   \n",
       "tau4  10000.0  5.249997  2.742556  0.500473  2.874950  5.249734  7.624838   \n",
       "p1    10000.0  3.750000  0.752160  1.582590  3.218300  3.751025  4.282420   \n",
       "p2    10000.0 -1.250000  0.433035 -1.999891 -1.624901 -1.249966 -0.874977   \n",
       "p3    10000.0 -1.250000  0.433035 -1.999945 -1.625025 -1.249974 -0.875043   \n",
       "p4    10000.0 -1.250000  0.433035 -1.999926 -1.624960 -1.250007 -0.875065   \n",
       "g1    10000.0  0.525000  0.274256  0.050009  0.287521  0.525009  0.762435   \n",
       "g2    10000.0  0.525000  0.274255  0.050053  0.287552  0.525003  0.762490   \n",
       "g3    10000.0  0.525000  0.274255  0.050054  0.287514  0.525015  0.762440   \n",
       "g4    10000.0  0.525000  0.274255  0.050028  0.287494  0.525002  0.762433   \n",
       "stab  10000.0  0.015731  0.036919 -0.080760 -0.015557  0.017142  0.044878   \n",
       "\n",
       "           max  \n",
       "tau1  9.999469  \n",
       "tau2  9.999837  \n",
       "tau3  9.999450  \n",
       "tau4  9.999443  \n",
       "p1    5.864418  \n",
       "p2   -0.500108  \n",
       "p3   -0.500072  \n",
       "p4   -0.500025  \n",
       "g1    0.999937  \n",
       "g2    0.999944  \n",
       "g3    0.999982  \n",
       "g4    0.999930  \n",
       "stab  0.109403  "
      ]
     },
     "execution_count": 5,
     "metadata": {},
     "output_type": "execute_result"
    }
   ],
   "source": [
    "df.describe().T"
   ]
  },
  {
   "cell_type": "code",
   "execution_count": 6,
   "id": "db1d14af",
   "metadata": {},
   "outputs": [
    {
     "data": {
      "text/plain": [
       "unstable    6380\n",
       "stable      3620\n",
       "Name: stabf, dtype: int64"
      ]
     },
     "execution_count": 6,
     "metadata": {},
     "output_type": "execute_result"
    }
   ],
   "source": [
    "df.stabf.value_counts()"
   ]
  },
  {
   "cell_type": "code",
   "execution_count": 59,
   "id": "9ffc1492",
   "metadata": {},
   "outputs": [],
   "source": [
    "data_df = df.copy()"
   ]
  },
  {
   "cell_type": "markdown",
   "id": "e4d87b47",
   "metadata": {},
   "source": [
    "### Encoding the categorical target varible using Label Encoder"
   ]
  },
  {
   "cell_type": "code",
   "execution_count": 60,
   "id": "60e238c3",
   "metadata": {},
   "outputs": [],
   "source": [
    "\n",
    "from sklearn.preprocessing import OrdinalEncoder,LabelEncoder\n",
    "ordinal_encoder = OrdinalEncoder()\n",
    "le = LabelEncoder()\n",
    "data_df['stabf'] = le.fit_transform(df['stabf'])"
   ]
  },
  {
   "cell_type": "markdown",
   "id": "1d51ea48",
   "metadata": {},
   "source": [
    "### Dropping the unnecessary columns and assigning the the dependent and independent variables"
   ]
  },
  {
   "cell_type": "code",
   "execution_count": 61,
   "id": "343a9975",
   "metadata": {},
   "outputs": [],
   "source": [
    "data_df = data_df.drop(columns=[ 'stab'])\n",
    "X = data_df.drop(columns= 'stabf' )\n",
    "y = data_df[ 'stabf' ]"
   ]
  },
  {
   "cell_type": "markdown",
   "id": "27358d37",
   "metadata": {},
   "source": [
    "### splitting the dataset into training and testing data in the ratio 80:20 "
   ]
  },
  {
   "cell_type": "code",
   "execution_count": 62,
   "id": "ed95fc21",
   "metadata": {},
   "outputs": [
    {
     "data": {
      "text/plain": [
       "1    5092\n",
       "0    2908\n",
       "Name: stabf, dtype: int64"
      ]
     },
     "execution_count": 62,
     "metadata": {},
     "output_type": "execute_result"
    }
   ],
   "source": [
    "from sklearn.model_selection import train_test_split\n",
    "x_train, x_test, y_train, y_test = train_test_split(X, y, test_size= 0.2 , random_state= 1 )\n",
    "y_train.value_counts()"
   ]
  },
  {
   "cell_type": "code",
   "execution_count": 63,
   "id": "f3c468d5",
   "metadata": {},
   "outputs": [],
   "source": []
  },
  {
   "cell_type": "markdown",
   "id": "b4fac076",
   "metadata": {},
   "source": [
    "### Scaling x_train,x_test"
   ]
  },
  {
   "cell_type": "code",
   "execution_count": 65,
   "id": "083b1517",
   "metadata": {},
   "outputs": [],
   "source": [
    "from sklearn.preprocessing import MinMaxScaler,StandardScaler\n",
    "ss = StandardScaler() # Standardization\n",
    "\n",
    "x_train = ss.fit_transform(x_train)\n",
    "x_test = ss.fit_transform(x_test)\n",
    "#y_train = np.array(y_train)\n",
    "#y_train = y_train.reshape(-1,1)\n",
    "#y_test = np.array(y_test)\n",
    "#y_test = y_test.reshape(-1,1)\n",
    "#y_test = ss.fit_transform(y_test)\n"
   ]
  },
  {
   "cell_type": "markdown",
   "id": "95473111",
   "metadata": {},
   "source": [
    "### Importing machine learning libraries for modelling and validation"
   ]
  },
  {
   "cell_type": "code",
   "execution_count": 67,
   "id": "92049ce0",
   "metadata": {},
   "outputs": [],
   "source": [
    "from sklearn.ensemble import RandomForestClassifier\n",
    "from sklearn.ensemble import ExtraTreesClassifier\n",
    "import lightgbm as lgb\n",
    "import xgboost as xgb\n",
    "from sklearn.model_selection import RepeatedStratifiedKFold\n",
    "from sklearn.metrics import classification_report\n",
    "from sklearn.metrics import accuracy_score"
   ]
  },
  {
   "cell_type": "code",
   "execution_count": 68,
   "id": "52e8b18f",
   "metadata": {},
   "outputs": [],
   "source": [
    "import matplotlib.pyplot as plt\n",
    "from sklearn.metrics import confusion_matrix\n",
    "from sklearn.metrics import roc_auc_score\n",
    "from sklearn.metrics import plot_roc_curve\n",
    "from sklearn.model_selection import cross_val_score\n",
    "from sklearn.model_selection import GridSearchCV\n",
    "from sklearn.metrics import classification_report\n",
    "from sklearn.metrics import accuracy_score\n",
    "from sklearn.model_selection import RepeatedStratifiedKFold\n",
    "from sklearn.metrics import precision_recall_curve\n",
    "from sklearn.metrics import recall_score, accuracy_score, precision_score, f1_score,confusion_matrix\n"
   ]
  },
  {
   "cell_type": "markdown",
   "id": "3fc0ff3a",
   "metadata": {},
   "source": [
    "## RANDOM FOREST CLASSIFIER ACCURACY"
   ]
  },
  {
   "cell_type": "code",
   "execution_count": 69,
   "id": "6dd83257",
   "metadata": {},
   "outputs": [
    {
     "name": "stdout",
     "output_type": "stream",
     "text": [
      "Accuracy :  92.80%\n"
     ]
    }
   ],
   "source": [
    "classifier_rf = RandomForestClassifier(random_state = 1)\n",
    "classifier_rf.fit(x_train,y_train)\n",
    "prediction = classifier_rf.predict(x_test)\n",
    "\n",
    "print(\"Accuracy : \",'{0:.2%}'.format(accuracy_score(y_test,prediction)))\n",
    "#print(\"Accuracy : \",accuracy_score(y_test,prediction))\n"
   ]
  },
  {
   "cell_type": "markdown",
   "id": "9348eec0",
   "metadata": {},
   "source": [
    "## EXTRA TREES CLASSIFIER ACCURACY"
   ]
  },
  {
   "cell_type": "code",
   "execution_count": 77,
   "id": "0b65922b",
   "metadata": {},
   "outputs": [
    {
     "name": "stdout",
     "output_type": "stream",
     "text": [
      "Accuracy :  92.60%\n"
     ]
    }
   ],
   "source": [
    "ModelET = ExtraTreesClassifier(random_state = 1)\n",
    "ModelET.fit(x_train,y_train)\n",
    "prediction = ModelET.predict(x_test)\n",
    "\n",
    "print(\"Accuracy : \",'{0:.2%}'.format(accuracy_score(y_test,prediction)))"
   ]
  },
  {
   "cell_type": "markdown",
   "id": "404f8e2c",
   "metadata": {},
   "source": [
    "## LGBM CLASSIFIER ACCURACY"
   ]
  },
  {
   "cell_type": "code",
   "execution_count": 71,
   "id": "9d55ec8a",
   "metadata": {},
   "outputs": [
    {
     "name": "stdout",
     "output_type": "stream",
     "text": [
      "Accuracy :  93.65%\n"
     ]
    }
   ],
   "source": [
    "ModelLGB = lgb.LGBMClassifier(random_state = 1)\n",
    "ModelLGB.fit(x_train,y_train)\n",
    "prediction = ModelLGB.predict(x_test)\n",
    "\n",
    "print(\"Accuracy : \",'{0:.2%}'.format(accuracy_score(y_test,prediction)))"
   ]
  },
  {
   "cell_type": "markdown",
   "id": "ed39d7ee",
   "metadata": {},
   "source": [
    "## XGB CLASSIFIER ACCURACY"
   ]
  },
  {
   "cell_type": "code",
   "execution_count": 72,
   "id": "b68986cf",
   "metadata": {},
   "outputs": [
    {
     "name": "stdout",
     "output_type": "stream",
     "text": [
      "Accuracy :  94.60%\n"
     ]
    }
   ],
   "source": [
    "ModelXGB = xgb.XGBClassifier(random_state = 1)\n",
    "ModelXGB.fit(x_train,y_train)\n",
    "prediction = ModelXGB.predict(x_test)\n",
    "print(\"Accuracy : \",'{0:.2%}'.format(accuracy_score(y_test,prediction)))"
   ]
  },
  {
   "cell_type": "markdown",
   "id": "10477352",
   "metadata": {},
   "source": [
    "### Randomised Search CV"
   ]
  },
  {
   "cell_type": "code",
   "execution_count": 78,
   "id": "3cb71cbd",
   "metadata": {},
   "outputs": [],
   "source": [
    "from sklearn.model_selection import RandomizedSearchCV\n"
   ]
  },
  {
   "cell_type": "code",
   "execution_count": 89,
   "id": "02e409c9",
   "metadata": {},
   "outputs": [],
   "source": [
    " param = {'n_estimators':[ 100,300,100,500],'min_samples_split':[2,5,7,2],'min_samples_leaf':[8,6,4,8],'max_features':[None,'auto',None,'log2'] }"
   ]
  },
  {
   "cell_type": "code",
   "execution_count": 91,
   "id": "029425c0",
   "metadata": {},
   "outputs": [
    {
     "name": "stdout",
     "output_type": "stream",
     "text": [
      "Fitting 5 folds for each of 10 candidates, totalling 50 fits\n",
      "{'max_features': None,\n",
      " 'min_samples_leaf': 4,\n",
      " 'min_samples_split': 2,\n",
      " 'n_estimators': 100}\n",
      "0.9304\n"
     ]
    }
   ],
   "source": [
    "rnd_search = RandomizedSearchCV(ExtraTreesClassifier(),param,cv=5, n_iter=10, scoring = 'accuracy', n_jobs = -1, verbose = 1,random_state = 1 )\n",
    "rnd_search.fit(X,y)\n",
    "from pprint import pprint\n",
    "\n",
    "pprint(rnd_search.best_params_)\n",
    "pprint(rnd_search.best_score_)\n"
   ]
  },
  {
   "cell_type": "markdown",
   "id": "edeb7820",
   "metadata": {},
   "source": [
    "### The parameter above is the best parameter"
   ]
  },
  {
   "cell_type": "code",
   "execution_count": 94,
   "id": "148daaf4",
   "metadata": {},
   "outputs": [
    {
     "name": "stdout",
     "output_type": "stream",
     "text": [
      "Accuracy :  93.10%\n"
     ]
    }
   ],
   "source": [
    "ModelET = ExtraTreesClassifier(random_state = 1,n_estimators = 100 , min_samples_split = 7 , min_samples_leaf = 4, max_features = None)\n",
    "ModelET.fit(x_train,y_train)\n",
    "prediction = ModelET.predict(x_test)\n",
    "\n",
    "print(\"Accuracy : \",'{0:.2%}'.format(accuracy_score(y_test,prediction)))\n"
   ]
  },
  {
   "cell_type": "markdown",
   "id": "450d5f46",
   "metadata": {},
   "source": [
    "##### The previous accuracy is 92.60% and the new accurace is 93.1%"
   ]
  },
  {
   "cell_type": "markdown",
   "id": "9bb00916",
   "metadata": {},
   "source": [
    "## The accuracy is Higher"
   ]
  },
  {
   "cell_type": "code",
   "execution_count": null,
   "id": "120edede",
   "metadata": {},
   "outputs": [],
   "source": [
    "fauture_imp = ExtraTreesClassifier(random_state = 1,n_estimators = 100 , min_samples_split = 7 , min_samples_leaf = 4, max_features = None)\n",
    "fauture_imp  "
   ]
  },
  {
   "cell_type": "markdown",
   "id": "09062bf1",
   "metadata": {},
   "source": [
    "## Feature importance "
   ]
  },
  {
   "cell_type": "code",
   "execution_count": 97,
   "id": "eabf3303",
   "metadata": {},
   "outputs": [
    {
     "data": {
      "text/plain": [
       "array([0.13365908, 0.13285746, 0.1297238 , 0.13216452, 0.00766336,\n",
       "       0.01082035, 0.01024937, 0.01014571, 0.10560117, 0.10826962,\n",
       "       0.11149598, 0.10734957])"
      ]
     },
     "execution_count": 97,
     "metadata": {},
     "output_type": "execute_result"
    }
   ],
   "source": [
    "ModelET = ExtraTreesClassifier(random_state = 1,n_estimators = 100 , min_samples_split = 7 , min_samples_leaf = 4, max_features = None)\n",
    "\n",
    "ModelET.fit(X,y)\n",
    "#prediction = ModelET.predict(x_test)\n",
    "feauture_importance = ModelET.feature_importances_\n",
    "feauture_importance"
   ]
  },
  {
   "cell_type": "code",
   "execution_count": 99,
   "id": "9e06c125",
   "metadata": {},
   "outputs": [
    {
     "data": {
      "image/png": "[encoded data removed]",
      "text/plain": [
       "<Figure size 432x288 with 1 Axes>"
      ]
     },
     "metadata": {
      "needs_background": "light"
     },
     "output_type": "display_data"
    }
   ],
   "source": [
    "plt.bar(X.columns,feauture_importance)\n",
    "plt.xlabel('Feauture Labels')\n",
    "plt.ylabel('Feauture importances')\n",
    "plt.title('Comparison of Different Feauture Importances')\n",
    "plt.show()"
   ]
  },
  {
   "cell_type": "markdown",
   "id": "c07606ae",
   "metadata": {},
   "source": [
    "### Most and least important feautures are tau2 and p1 respectively"
   ]
  },
  {
   "cell_type": "code",
   "execution_count": null,
   "id": "a2b661de",
   "metadata": {},
   "outputs": [],
   "source": []
  }
 ],
 "metadata": {
  "kernelspec": {
   "display_name": "Python 3 (ipykernel)",
   "language": "python",
   "name": "python3"
  },
  "language_info": {
   "codemirror_mode": {
    "name": "ipython",
    "version": 3
   },
   "file_extension": ".py",
   "mimetype": "text/x-python",
   "name": "python",
   "nbconvert_exporter": "python",
   "pygments_lexer": "ipython3",
   "version": "3.9.12"
  }
 },
 "nbformat": 4,
 "nbformat_minor": 5
}
